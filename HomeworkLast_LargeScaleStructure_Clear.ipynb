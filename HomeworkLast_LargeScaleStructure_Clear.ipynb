{
 "cells": [
  {
   "cell_type": "markdown",
   "metadata": {},
   "source": [
    "# Galaxies and the large-scale structure of the Universe\n",
    "\n",
    "_A python exercise notebook written by Rita Tojeiro, October 2017, for the Lab component of the AS1001 Cosmology module at the University of St Andrews, UK.  It was modified to stand alone in an SDSS EPO workshop at AAS in Jan 2018 and then significantly modified to emphasize developing programming skills by Andrea Lommen, Haverford College, January 2018. \n",
    "This notebook has benefited from examples provided by Britt Lundgren (University of North Carolina) and Jordan Raddick (John Hopkins University). Tweaked by Karen Masters for ASTR204 Fall 2019 (incuding move to DR15)._ \n",
    "\n",
    "In this Notebook, you will use data from the Sloan Digital Sky Survey (SDSS), to explore the relationship between galaxy properties and the large-scale structure of the Universe. \n",
    "\n",
    "In the end, you should have found an answer to the following question:\n",
    "\n",
    "- How are galaxies spatially distributed in the Universe?\n",
    "\n",
    "The programming skills you should have mastered include:\n",
    "\n",
    "- Add if statements, Boolean operators, arithmetic operations, and mean/min as necessary.\n",
    "- Use of np.where\n",
    "- Writing variables into strings\n",
    "\n",
    "The programming skills you will have used (but maybe not mastered) include:\n",
    "\n",
    "- Doing a SQL query to read in data. \n",
    "\n",
    "\n",
    "## SDSS\n",
    "\n",
    "You will be exploring the largest astronomical dataset in the world - the Sloan Digital Sky Survey (www.sdss.org).\n"
   ]
  },
  {
   "cell_type": "markdown",
   "metadata": {},
   "source": [
    "### Imports\n",
    "\n",
    "First, we will import the necessary SciServer and support libraries. "
   ]
  },
  {
   "cell_type": "code",
   "execution_count": 1,
   "metadata": {},
   "outputs": [
    {
     "name": "stdout",
     "output_type": "stream",
     "text": [
      "SciServer libraries imported\n",
      "Supporting libraries imported\n",
      "Settings applied\n"
     ]
    }
   ],
   "source": [
    "# Import Python libraries to work with SciServer\n",
    "import SciServer.CasJobs as CasJobs # query with CasJobs\n",
    "import SciServer.SciDrive as SciDrive   # read/write to/from SciDrive\n",
    "import SciServer.SkyServer as SkyServer   # show individual objects and generate \n",
    "    # thumbnail images through SkyServer\n",
    "print('SciServer libraries imported')\n",
    "\n",
    "# Import other libraries for use in this notebook.\n",
    "import numpy as np                  # standard Python lib for math ops\n",
    "#from scipy.misc import imsave       # save images as files\n",
    "import pandas                       # data manipulation package\n",
    "import matplotlib.pyplot as plt     # another graphing package\n",
    "import os                           # manage local files in your Compute containers\n",
    "print('Supporting libraries imported')\n",
    "\n",
    "import astroML\n",
    "from astroML.datasets import fetch_sdss_spectrum\n",
    "from astropy.io import ascii\n",
    "\n",
    "# Apply some special settings to the imported libraries\n",
    "# ensure columns get written completely in notebook\n",
    "pandas.set_option('display.max_colwidth', -1)\n",
    "# do *not* show python warnings \n",
    "import warnings\n",
    "warnings.filterwarnings('ignore')\n",
    "print('Settings applied')"
   ]
  },
  {
   "cell_type": "markdown",
   "metadata": {},
   "source": [
    "## Querying the SDSS database\n",
    "\n",
    "The SDSS data is stored in a SQL database. SQL (standardised query language; people pronounce it as \"sequel\" is pronounced) is a language used to communicate with databases via \"queries\". For each query command, the database returns an answer. Usually, this is a subsample of the original database, though SQL can operate on the data very effectively too. In this tutorial we will submit queries to the SDSS database to gather the information that we need, and we will use python to operate on, manipulate, and vizualise that data.\n",
    "\n",
    "An extensive tutorial on how to query the SDSS database is provided here: http://skyserver.sdss.org/dr15/en/help/howto/search/searchhowtohome.aspx . In short, every SQL command consists of three blocks: \n",
    "- The **SELECT** block: it defines the quantities that you want your query to return.\n",
    "- The **FROM** block: it defines which tables of the database you want SQL to look in.\n",
    "- The **WHERE** block: it defines any constraints on the data that you want to impose.\n"
   ]
  },
  {
   "cell_type": "markdown",
   "metadata": {},
   "source": [
    "### Using SQL and SciServer to return galaxy data\n",
    "\n",
    "For the database schema and documentation see http://skyserver.sdss.org/dr15/en/help/browser/browser.aspx The following query returns specific information on a sample of galaxies, as a dataframe.\n"
   ]
  },
  {
   "cell_type": "markdown",
   "metadata": {},
   "source": [
    "This query finds the RA (right ascension) of all galaxies g-band magnitude brighter than 17. Remember a magnitude of 6 is visible to the naked eye.) "
   ]
  },
  {
   "cell_type": "code",
   "execution_count": 2,
   "metadata": {},
   "outputs": [
    {
     "name": "stdout",
     "output_type": "stream",
     "text": [
      "SQL query finished.\n",
      "SQL query returned 100724 galaxies\n"
     ]
    }
   ],
   "source": [
    "# Find objects in the Sloan Digital Sky Survey's Data Release 14.\n",
    "## \n",
    "# First, store the query in an object called \"query\"\n",
    "# This query gets right ascension (ra) from a catalog called SpecPhotoAll (Spectrographic\n",
    "# and Photometric information) and limits the query to just objects deemed to be galaxies\n",
    "# with a redshift in between .02 and .5 and with a g-magnitude brighter than 17.\n",
    "query=\"\"\"\n",
    "SELECT ra\n",
    "FROM SpecPhotoAll\n",
    "WHERE class = 'galaxy' AND z BETWEEN .02 and .5 AND modelMag_g < 17\n",
    "\"\"\"\n",
    "#Then, query the database. The answer is a table that is being returned to a \n",
    "# dataframe that we've named right_ascension.\n",
    "right_ascension = CasJobs.executeQuery(query, \"dr15\")\n",
    "right_ascension = (np.array(right_ascension))[:,0]   #We'll learn more about why you need \n",
    "# this statement later. For now\n",
    "# I'll just tell you we're converting it from a table into an array.\n",
    "#DR15 means \"Data Release 15\" See http://skyserver.sdss.org/dr15\n",
    "\n",
    "print(\"SQL query finished.\")\n",
    "print(\"SQL query returned \" + str(len(right_ascension))+ \" galaxies\")"
   ]
  },
  {
   "cell_type": "markdown",
   "metadata": {},
   "source": [
    "Let's see what the first 10 elements of right_ascension look like."
   ]
  },
  {
   "cell_type": "code",
   "execution_count": 3,
   "metadata": {},
   "outputs": [
    {
     "data": {
      "text/plain": [
       "array([172.79545, 173.60386, 173.66972, 173.61061, 173.69272, 173.12968,\n",
       "       173.77757, 173.58356, 173.51957, 174.06404])"
      ]
     },
     "execution_count": 3,
     "metadata": {},
     "output_type": "execute_result"
    }
   ],
   "source": [
    "right_ascension[0:10]"
   ]
  },
  {
   "cell_type": "markdown",
   "metadata": {},
   "source": [
    "What is right ascension? Put it in your words and also explain how you think about it. (I know this is review, but I figured it'd be useful.)"
   ]
  },
  {
   "cell_type": "markdown",
   "metadata": {},
   "source": []
  },
  {
   "cell_type": "markdown",
   "metadata": {},
   "source": [
    "On a scale of 1-10, how useful was printing out the first 10 elements? What would you actually like to know about this 100,724 galaxies you just read in? "
   ]
  },
  {
   "cell_type": "markdown",
   "metadata": {},
   "source": []
  },
  {
   "cell_type": "markdown",
   "metadata": {},
   "source": [
    "What else could you do that would help you know whether the reading in of those galaxies went well? (Put your answer below BEFORE you look below and BEFORE you go on.)"
   ]
  },
  {
   "cell_type": "markdown",
   "metadata": {},
   "source": []
  },
  {
   "cell_type": "markdown",
   "metadata": {},
   "source": [
    "Since it's right ascension, we'd expect the minimum to be 0 and the maximum to be 360 degrees (right ascension is like longitude.) Print out the min and max below and reflect on the answer. The functions you need are just called ```min()``` and ```max()```"
   ]
  },
  {
   "cell_type": "code",
   "execution_count": null,
   "metadata": {},
   "outputs": [],
   "source": [
    "# Your code here"
   ]
  },
  {
   "cell_type": "markdown",
   "metadata": {},
   "source": [
    "REFLECTION IN THIS BOX: "
   ]
  },
  {
   "cell_type": "code",
   "execution_count": 5,
   "metadata": {},
   "outputs": [
    {
     "data": {
      "image/png": "[encoded data removed]",
      "text/plain": [
       "<matplotlib.figure.Figure at 0x7f8c6406a240>"
      ]
     },
     "metadata": {},
     "output_type": "display_data"
    }
   ],
   "source": [
    "\"\"\"  Let's go a little farther and actually make a histogram of our array. What\n",
    "do we expect this to look like? I'd be a little surprised if there were more galaxies\n",
    "at particular right ascensions compared to others. Aren't galaxies distributed equally\n",
    "across the universe?\"\"\"\n",
    "plt.hist(right_ascension, bins='auto');  #The semi-colon there keeps it from printing\n",
    "    # the array it's going to plot. Take the semi-colon away and look at it!"
   ]
  },
  {
   "cell_type": "markdown",
   "metadata": {},
   "source": [
    "Ah look at that!  That's really not what you might expect. You might expect an even distribution of right ascensions from 0 to 360. We'll get to that in a little bit.  For now, notice how useful this was to use plots\n",
    "to find out about your data (especially when it's more than 100,000 galaxies.)"
   ]
  },
  {
   "cell_type": "markdown",
   "metadata": {},
   "source": [
    "### Your turn!  Now get an array of the declinations instead of the right ascension. You will need to edit and re-run the query from a few boxes up. The keyword is \"dec\"."
   ]
  },
  {
   "cell_type": "code",
   "execution_count": null,
   "metadata": {},
   "outputs": [],
   "source": []
  },
  {
   "cell_type": "markdown",
   "metadata": {},
   "source": [
    "And again in your own words, say what declination is."
   ]
  },
  {
   "cell_type": "markdown",
   "metadata": {},
   "source": []
  },
  {
   "cell_type": "markdown",
   "metadata": {},
   "source": [
    "Use the three techniques we used above to get a sense of whether your query worked and what your data looks like. "
   ]
  },
  {
   "cell_type": "markdown",
   "metadata": {},
   "source": []
  },
  {
   "cell_type": "code",
   "execution_count": null,
   "metadata": {},
   "outputs": [],
   "source": []
  },
  {
   "cell_type": "markdown",
   "metadata": {},
   "source": [
    "Comment on what you learned from looking at those 10 elements."
   ]
  },
  {
   "cell_type": "markdown",
   "metadata": {},
   "source": []
  },
  {
   "cell_type": "markdown",
   "metadata": {},
   "source": [
    "Next print the min and max of the array."
   ]
  },
  {
   "cell_type": "code",
   "execution_count": null,
   "metadata": {},
   "outputs": [],
   "source": []
  },
  {
   "cell_type": "markdown",
   "metadata": {},
   "source": [
    "What did you learn from the max and min?  Is it what you were expecting?  How can you explain it? (Take a guess.)"
   ]
  },
  {
   "cell_type": "markdown",
   "metadata": {},
   "source": []
  },
  {
   "cell_type": "markdown",
   "metadata": {},
   "source": [
    "Now plot the histogram."
   ]
  },
  {
   "cell_type": "code",
   "execution_count": null,
   "metadata": {},
   "outputs": [],
   "source": []
  },
  {
   "cell_type": "markdown",
   "metadata": {},
   "source": [
    "What did you learn from the histogram?  Is it what you were expecting? Are there any features that surprise you? How can you explain what you see?  (Take a guess.)"
   ]
  },
  {
   "cell_type": "markdown",
   "metadata": {},
   "source": []
  },
  {
   "cell_type": "markdown",
   "metadata": {},
   "source": [
    "Why is there nothing below -10 degrees or above 70 degrees?  _Hint: http://www.sdss.org/dr15/scope/ _"
   ]
  },
  {
   "cell_type": "markdown",
   "metadata": {},
   "source": []
  },
  {
   "cell_type": "code",
   "execution_count": 18,
   "metadata": {},
   "outputs": [
    {
     "data": {
      "text/plain": [
       "[<matplotlib.lines.Line2D at 0x7f8ba337f518>]"
      ]
     },
     "execution_count": 18,
     "metadata": {},
     "output_type": "execute_result"
    },
    {
     "data": {
      "image/png": "[encoded data removed]",
      "text/plain": [
       "<matplotlib.figure.Figure at 0x7f8ba2b91d68>"
      ]
     },
     "metadata": {},
     "output_type": "display_data"
    }
   ],
   "source": [
    "#Now let's plot the right_ascension and declination on the same plot!\n",
    "plt.plot(right_ascension, dec)\n",
    "declination=dec #This is just do either choice of name works!"
   ]
  },
  {
   "cell_type": "markdown",
   "metadata": {},
   "source": [
    "That is not a very useful plot because it connected all the points together. \n",
    "(Sometimes that's what you want, but not here.)"
   ]
  },
  {
   "cell_type": "code",
   "execution_count": 19,
   "metadata": {},
   "outputs": [
    {
     "data": {
      "text/plain": [
       "[<matplotlib.lines.Line2D at 0x7f8ba3390908>]"
      ]
     },
     "execution_count": 19,
     "metadata": {},
     "output_type": "execute_result"
    },
    {
     "data": {
      "image/png": "[encoded data removed]",
      "text/plain": [
       "<matplotlib.figure.Figure at 0x7f8ba3390390>"
      ]
     },
     "metadata": {},
     "output_type": "display_data"
    }
   ],
   "source": [
    "plt.ylim(-90,90)          # I want to force it to show me all declinations from -90 to 90\n",
    "plt.plot(right_ascension, declination, \".\") # Using a period as a marker."
   ]
  },
  {
   "cell_type": "markdown",
   "metadata": {},
   "source": [
    "**Your turn!**   See here https://matplotlib.org/api/_as_gen/matplotlib.pyplot.plot.html and experiment with some other shapes and colors. You might find the keyword \"markersize\" useful to adjust the point (or marker) size. Just show one of the plots you experimented with below. Also get the plot to show just the range from 120 to 250 in RA and from 0 to 60 in declination."
   ]
  },
  {
   "cell_type": "code",
   "execution_count": null,
   "metadata": {},
   "outputs": [],
   "source": []
  },
  {
   "cell_type": "markdown",
   "metadata": {},
   "source": [
    "What do you notice about the distribution of galaxies across the sky?"
   ]
  },
  {
   "cell_type": "markdown",
   "metadata": {},
   "source": []
  },
  {
   "cell_type": "markdown",
   "metadata": {},
   "source": [
    "### And finally get an array of redshift. Keyword is \"z\".   \n",
    "Make sure to inspect and comment on the output you see (the first 10 numbers, the min/max, and the histogram.) And for now set the g magnitude limit to 17 like you did for RA and DEC."
   ]
  },
  {
   "cell_type": "code",
   "execution_count": null,
   "metadata": {},
   "outputs": [],
   "source": []
  },
  {
   "cell_type": "markdown",
   "metadata": {},
   "source": []
  },
  {
   "cell_type": "markdown",
   "metadata": {},
   "source": [
    "For fun, let's see what the histogram looks like if we go out another factor of 10 in brightness, which is 5 magnitudes, so out to a limiting g-magnitude of 22. Do that now. "
   ]
  },
  {
   "cell_type": "code",
   "execution_count": null,
   "metadata": {},
   "outputs": [],
   "source": []
  },
  {
   "cell_type": "markdown",
   "metadata": {},
   "source": [
    "What are your thoughts on this graph?"
   ]
  },
  {
   "cell_type": "markdown",
   "metadata": {},
   "source": [
    " "
   ]
  },
  {
   "cell_type": "markdown",
   "metadata": {},
   "source": [
    "A redshift of 0.5 means that the galaxy is traveling away from us at half the speed of light!"
   ]
  },
  {
   "cell_type": "markdown",
   "metadata": {},
   "source": [
    "Now repeat the original query with the g<17 criterion because otherwise we're going to get really messed up below."
   ]
  },
  {
   "cell_type": "code",
   "execution_count": 45,
   "metadata": {},
   "outputs": [
    {
     "name": "stdout",
     "output_type": "stream",
     "text": [
      "Running SQL query for  z\n",
      "SQL query finished\n",
      "SQL query returned 100724 galaxies\n"
     ]
    }
   ],
   "source": [
    "query=\"\"\"\n",
    "SELECT z\n",
    "FROM SpecPhotoAll\n",
    "WHERE class = 'galaxy' AND z BETWEEN .02 and .5 AND modelMag_g < 17\n",
    "\"\"\"\n",
    "#Then, query the database. The answer is a table that is being returned to a \n",
    "# dataframe that we've named right_ascension.\n",
    "z = CasJobs.executeQuery(query, \"dr15\")\n",
    "z = (np.array(z))[:,0]   #We'll learn more about why you need \n",
    "# this statement later. For now\n",
    "# I'll just tell you we're converting it from a table into an array.\n",
    "#DR15 means \"Data Release 15\" See http://skyserver.sdss.org/dr15\n",
    "\n",
    "print(\"SQL query finished.\")\n",
    "print(\"SQL query returned \" + str(len(right_ascension))+ \" galaxies\")"
   ]
  },
  {
   "cell_type": "markdown",
   "metadata": {},
   "source": [
    "# Converting redshift to distance\n",
    "To convert redshift to distance you multiply by the speed of light,c, and divide by Hubble's Constant,H, which measures the rate of expansion of the universe. \n",
    "\n",
    "c = 3.0e5 kilometers/second   Please notice that 3.0e5 is Python shorthand for \"3 times 10 to the 5th\". \n",
    "\n",
    "H  = 72.0 km s$^{-1}$Mpc$^{-1}$    Those units are weird.  You can also write it $\\frac{km/s}{Mpc}$. The way I say that is \"kilometers per second per megaparsec\" and I think about it as a velocity (km/s) per distance (Mpc). If a galaxy is 1 Mpc away from us, it will be traveling at a speed of 72.0 km/s away from us. If it's 2 Mpc away from us, it will be traveling at a speed of 144.0 km/s....\n",
    "\n",
    "In the next cell, please explain what units your answer will be in once you multiply by c and divide by H.  You were trying to convert a redshift to a distance. Do you have units of distance?"
   ]
  },
  {
   "cell_type": "markdown",
   "metadata": {},
   "source": [
    "ANSWER HERE: "
   ]
  },
  {
   "cell_type": "markdown",
   "metadata": {},
   "source": [
    "Now do the calculation to convert redshift to distance. (You should end up with an array called \"distance.\") "
   ]
  },
  {
   "cell_type": "code",
   "execution_count": 46,
   "metadata": {},
   "outputs": [],
   "source": []
  },
  {
   "cell_type": "markdown",
   "metadata": {
    "collapsed": true
   },
   "source": [
    "What are the min and max of distance? Express them in both Mpc and Mly."
   ]
  },
  {
   "cell_type": "code",
   "execution_count": null,
   "metadata": {},
   "outputs": [],
   "source": []
  },
  {
   "cell_type": "markdown",
   "metadata": {},
   "source": [
    "Do those distances seem reasonable to you? Why?   Our nearest neighbor galaxy is less than a Mpc away, and the edge of the observable universe is about 15,000 Mpc away, so it'd be really weird if you got a galaxy distance that wasn't in between these two extremes. (So if you did, go back and find your mistake.)"
   ]
  },
  {
   "cell_type": "markdown",
   "metadata": {},
   "source": [
    "REFLECT ON YOUR DISTANCE VALUES HERE"
   ]
  },
  {
   "cell_type": "markdown",
   "metadata": {},
   "source": [
    "How many of the distances are close to that lower end? More specifically how many distances are less than 100 Mpc? HINT: how can you make a sub-list with only values <100 Mpc in and count the length of it. A command to count the length of an array is ```len()```."
   ]
  },
  {
   "cell_type": "code",
   "execution_count": null,
   "metadata": {},
   "outputs": [],
   "source": []
  },
  {
   "cell_type": "markdown",
   "metadata": {},
   "source": [
    "Calculate what fraction of the distances are within 100 Mpc.  Get your answer to appear nicely as a sentence with a % sign in it."
   ]
  },
  {
   "cell_type": "code",
   "execution_count": null,
   "metadata": {},
   "outputs": [],
   "source": []
  },
  {
   "cell_type": "markdown",
   "metadata": {},
   "source": [
    "The final task will be to make a plot of the sky, with the points showing galaxies being color coded by the galaxy's distance from us. You do this most easilly by making a series of say 3 sets of galaxies selected to have different distance ranges. Experiment with the exact selection of the distance ranges to get an interesting plot.  As before, get the plot to show just the range from 120 to 250 in RA and from 0 to 60 in declination. Comment on the plot, and why you selected the color ranges you selected. \n",
    "\n",
    "HINT: plotting a histogram of distance can help you work out an interesting range. \n",
    "\n",
    "HINT: to include two slices/filters in an array you need a syntax like this ```x1 = x[(y > 100) & (y < 500)]``` (the parentheses matter for some reason!)"
   ]
  },
  {
   "cell_type": "code",
   "execution_count": null,
   "metadata": {},
   "outputs": [],
   "source": []
  },
  {
   "cell_type": "markdown",
   "metadata": {},
   "source": []
  },
  {
   "cell_type": "markdown",
   "metadata": {},
   "source": [
    "**Congratulations, that is the end of the Lab!** Make sure you've **run all the code cells, filled in all the text answers and that your plots are all showing without error**. You can make a PDF of it to submit to Moodle. "
   ]
  }
 ],
 "metadata": {
  "kernelspec": {
   "display_name": "Python 3.8 (py38)",
   "language": "python",
   "name": "py38"
  },
  "language_info": {
   "codemirror_mode": {
    "name": "ipython",
    "version": 3
   },
   "file_extension": ".py",
   "mimetype": "text/x-python",
   "name": "python",
   "nbconvert_exporter": "python",
   "pygments_lexer": "ipython3",
   "version": "3.8.5"
  }
 },
 "nbformat": 4,
 "nbformat_minor": 1
}
